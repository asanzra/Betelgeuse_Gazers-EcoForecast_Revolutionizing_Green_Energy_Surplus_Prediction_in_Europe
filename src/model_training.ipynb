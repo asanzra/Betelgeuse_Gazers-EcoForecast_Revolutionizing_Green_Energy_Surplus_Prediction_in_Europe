{
 "cells": [
  {
   "cell_type": "code",
   "execution_count": 14,
   "id": "94b613a4",
   "metadata": {},
   "outputs": [],
   "source": [
    "import tensorflow as tf\n",
    "import os\n",
    "import pandas as pd\n",
    "import numpy as np\n",
    "import matplotlib as plt\n",
    "\n",
    "from tensorflow.keras.models import Sequential\n",
    "from tensorflow.keras.layers import InputLayer, LSTM, Dense\n",
    "from sklearn.metrics import mean_squared_error as mse\n",
    "from tensorflow.keras.metrics import RootMeanSquaredError\n",
    "from tensorflow.keras.losses import MeanSquaredError\n",
    "from tensorflow.keras.optimizers import Adam\n",
    "from tensorflow.keras.callbacks import ModelCheckpoint\n",
    "\n",
    "#We will use this function later to predict to plot the predictions alongside the labels\n",
    "def plot_predictions1(model, X, y, start=0, end=100):\n",
    "  predictions = model.predict(X).flatten()\n",
    "  df = pd.DataFrame(data={'Predictions':predictions, 'Actuals':y})\n",
    "  plt.plot(df['Predictions'][start:end])\n",
    "  plt.plot(df['Actuals'][start:end])\n",
    "  return df, mse(y, predictions)"
   ]
  },
  {
   "cell_type": "code",
   "execution_count": 2,
   "id": "af9628cf",
   "metadata": {},
   "outputs": [],
   "source": [
    "data_csv = '../data/your_train.csv'"
   ]
  },
  {
   "cell_type": "code",
   "execution_count": 3,
   "id": "00f6fd4a",
   "metadata": {},
   "outputs": [
    {
     "data": {
      "text/html": [
       "<div>\n",
       "<style scoped>\n",
       "    .dataframe tbody tr th:only-of-type {\n",
       "        vertical-align: middle;\n",
       "    }\n",
       "\n",
       "    .dataframe tbody tr th {\n",
       "        vertical-align: top;\n",
       "    }\n",
       "\n",
       "    .dataframe thead th {\n",
       "        text-align: right;\n",
       "    }\n",
       "</style>\n",
       "<table border=\"1\" class=\"dataframe\">\n",
       "  <thead>\n",
       "    <tr style=\"text-align: right;\">\n",
       "      <th></th>\n",
       "      <th>HU_B01</th>\n",
       "      <th>HU_B09</th>\n",
       "      <th>HU_B11</th>\n",
       "      <th>HU_B15</th>\n",
       "      <th>HU_B16</th>\n",
       "      <th>HU_B19</th>\n",
       "      <th>HU_Load</th>\n",
       "      <th>IT_B01</th>\n",
       "      <th>IT_B09</th>\n",
       "      <th>IT_B11</th>\n",
       "      <th>...</th>\n",
       "      <th>SE_B12</th>\n",
       "      <th>SE_B16</th>\n",
       "      <th>SE_B19</th>\n",
       "      <th>SE_Load</th>\n",
       "      <th>NE_Load</th>\n",
       "      <th>Sin_Hour</th>\n",
       "      <th>Cos_Hour</th>\n",
       "      <th>Sin_DayOfYear</th>\n",
       "      <th>Cos_DayOfYear</th>\n",
       "      <th>label</th>\n",
       "    </tr>\n",
       "  </thead>\n",
       "  <tbody>\n",
       "    <tr>\n",
       "      <th>2021-12-31 23:00:00</th>\n",
       "      <td>133.0</td>\n",
       "      <td>1.0</td>\n",
       "      <td>12.0</td>\n",
       "      <td>8.0</td>\n",
       "      <td>1.0</td>\n",
       "      <td>127.0</td>\n",
       "      <td>4255.0</td>\n",
       "      <td>678.0</td>\n",
       "      <td>640.0</td>\n",
       "      <td>2116.0</td>\n",
       "      <td>...</td>\n",
       "      <td>7016.0</td>\n",
       "      <td>1.0</td>\n",
       "      <td>4046.0</td>\n",
       "      <td>15332.0</td>\n",
       "      <td>10327.0</td>\n",
       "      <td>-0.258819</td>\n",
       "      <td>9.659258e-01</td>\n",
       "      <td>6.432491e-16</td>\n",
       "      <td>1.000000</td>\n",
       "      <td>3</td>\n",
       "    </tr>\n",
       "    <tr>\n",
       "      <th>2022-01-01 00:00:00</th>\n",
       "      <td>524.0</td>\n",
       "      <td>1.0</td>\n",
       "      <td>45.0</td>\n",
       "      <td>31.0</td>\n",
       "      <td>1.0</td>\n",
       "      <td>744.0</td>\n",
       "      <td>16458.0</td>\n",
       "      <td>684.0</td>\n",
       "      <td>641.0</td>\n",
       "      <td>1952.0</td>\n",
       "      <td>...</td>\n",
       "      <td>7087.0</td>\n",
       "      <td>1.0</td>\n",
       "      <td>4022.0</td>\n",
       "      <td>15332.0</td>\n",
       "      <td>40707.0</td>\n",
       "      <td>0.000000</td>\n",
       "      <td>1.000000e+00</td>\n",
       "      <td>1.721336e-02</td>\n",
       "      <td>0.999852</td>\n",
       "      <td>3</td>\n",
       "    </tr>\n",
       "    <tr>\n",
       "      <th>2022-01-01 01:00:00</th>\n",
       "      <td>517.0</td>\n",
       "      <td>1.0</td>\n",
       "      <td>45.0</td>\n",
       "      <td>29.0</td>\n",
       "      <td>1.0</td>\n",
       "      <td>903.0</td>\n",
       "      <td>15427.0</td>\n",
       "      <td>671.0</td>\n",
       "      <td>640.0</td>\n",
       "      <td>1832.0</td>\n",
       "      <td>...</td>\n",
       "      <td>7089.0</td>\n",
       "      <td>1.0</td>\n",
       "      <td>3949.0</td>\n",
       "      <td>15271.0</td>\n",
       "      <td>39466.0</td>\n",
       "      <td>0.258819</td>\n",
       "      <td>9.659258e-01</td>\n",
       "      <td>1.721336e-02</td>\n",
       "      <td>0.999852</td>\n",
       "      <td>3</td>\n",
       "    </tr>\n",
       "    <tr>\n",
       "      <th>2022-01-01 02:00:00</th>\n",
       "      <td>508.0</td>\n",
       "      <td>1.0</td>\n",
       "      <td>45.0</td>\n",
       "      <td>29.0</td>\n",
       "      <td>1.0</td>\n",
       "      <td>946.0</td>\n",
       "      <td>14782.0</td>\n",
       "      <td>657.0</td>\n",
       "      <td>649.0</td>\n",
       "      <td>1843.0</td>\n",
       "      <td>...</td>\n",
       "      <td>6747.0</td>\n",
       "      <td>1.0</td>\n",
       "      <td>3764.0</td>\n",
       "      <td>15151.0</td>\n",
       "      <td>38924.0</td>\n",
       "      <td>0.500000</td>\n",
       "      <td>8.660254e-01</td>\n",
       "      <td>1.721336e-02</td>\n",
       "      <td>0.999852</td>\n",
       "      <td>3</td>\n",
       "    </tr>\n",
       "    <tr>\n",
       "      <th>2022-01-01 03:00:00</th>\n",
       "      <td>507.0</td>\n",
       "      <td>1.0</td>\n",
       "      <td>45.0</td>\n",
       "      <td>29.0</td>\n",
       "      <td>1.0</td>\n",
       "      <td>674.0</td>\n",
       "      <td>14631.0</td>\n",
       "      <td>650.0</td>\n",
       "      <td>649.0</td>\n",
       "      <td>1819.0</td>\n",
       "      <td>...</td>\n",
       "      <td>7174.0</td>\n",
       "      <td>1.0</td>\n",
       "      <td>3598.0</td>\n",
       "      <td>15388.0</td>\n",
       "      <td>38212.0</td>\n",
       "      <td>0.707107</td>\n",
       "      <td>7.071068e-01</td>\n",
       "      <td>1.721336e-02</td>\n",
       "      <td>0.999852</td>\n",
       "      <td>3</td>\n",
       "    </tr>\n",
       "    <tr>\n",
       "      <th>...</th>\n",
       "      <td>...</td>\n",
       "      <td>...</td>\n",
       "      <td>...</td>\n",
       "      <td>...</td>\n",
       "      <td>...</td>\n",
       "      <td>...</td>\n",
       "      <td>...</td>\n",
       "      <td>...</td>\n",
       "      <td>...</td>\n",
       "      <td>...</td>\n",
       "      <td>...</td>\n",
       "      <td>...</td>\n",
       "      <td>...</td>\n",
       "      <td>...</td>\n",
       "      <td>...</td>\n",
       "      <td>...</td>\n",
       "      <td>...</td>\n",
       "      <td>...</td>\n",
       "      <td>...</td>\n",
       "      <td>...</td>\n",
       "      <td>...</td>\n",
       "    </tr>\n",
       "    <tr>\n",
       "      <th>2023-01-01 18:00:00</th>\n",
       "      <td>452.0</td>\n",
       "      <td>1.0</td>\n",
       "      <td>37.0</td>\n",
       "      <td>48.0</td>\n",
       "      <td>1.0</td>\n",
       "      <td>118.0</td>\n",
       "      <td>18252.0</td>\n",
       "      <td>682.0</td>\n",
       "      <td>621.0</td>\n",
       "      <td>2477.0</td>\n",
       "      <td>...</td>\n",
       "      <td>6917.0</td>\n",
       "      <td>1.0</td>\n",
       "      <td>5800.0</td>\n",
       "      <td>16588.0</td>\n",
       "      <td>49163.0</td>\n",
       "      <td>-1.000000</td>\n",
       "      <td>-1.836970e-16</td>\n",
       "      <td>1.721336e-02</td>\n",
       "      <td>0.999852</td>\n",
       "      <td>3</td>\n",
       "    </tr>\n",
       "    <tr>\n",
       "      <th>2023-01-01 19:00:00</th>\n",
       "      <td>451.0</td>\n",
       "      <td>1.0</td>\n",
       "      <td>37.0</td>\n",
       "      <td>43.0</td>\n",
       "      <td>1.0</td>\n",
       "      <td>132.0</td>\n",
       "      <td>17874.0</td>\n",
       "      <td>682.0</td>\n",
       "      <td>622.0</td>\n",
       "      <td>1768.0</td>\n",
       "      <td>...</td>\n",
       "      <td>6585.0</td>\n",
       "      <td>1.0</td>\n",
       "      <td>5764.0</td>\n",
       "      <td>16146.0</td>\n",
       "      <td>47636.0</td>\n",
       "      <td>-0.965926</td>\n",
       "      <td>2.588190e-01</td>\n",
       "      <td>1.721336e-02</td>\n",
       "      <td>0.999852</td>\n",
       "      <td>3</td>\n",
       "    </tr>\n",
       "    <tr>\n",
       "      <th>2023-01-01 20:00:00</th>\n",
       "      <td>453.0</td>\n",
       "      <td>1.0</td>\n",
       "      <td>37.0</td>\n",
       "      <td>42.0</td>\n",
       "      <td>1.0</td>\n",
       "      <td>110.0</td>\n",
       "      <td>17142.0</td>\n",
       "      <td>685.0</td>\n",
       "      <td>622.0</td>\n",
       "      <td>1559.0</td>\n",
       "      <td>...</td>\n",
       "      <td>6437.0</td>\n",
       "      <td>1.0</td>\n",
       "      <td>5551.0</td>\n",
       "      <td>15870.0</td>\n",
       "      <td>45690.0</td>\n",
       "      <td>-0.866025</td>\n",
       "      <td>5.000000e-01</td>\n",
       "      <td>1.721336e-02</td>\n",
       "      <td>0.999852</td>\n",
       "      <td>3</td>\n",
       "    </tr>\n",
       "    <tr>\n",
       "      <th>2023-01-01 21:00:00</th>\n",
       "      <td>451.0</td>\n",
       "      <td>1.0</td>\n",
       "      <td>37.0</td>\n",
       "      <td>43.0</td>\n",
       "      <td>1.0</td>\n",
       "      <td>123.0</td>\n",
       "      <td>16260.0</td>\n",
       "      <td>688.0</td>\n",
       "      <td>622.0</td>\n",
       "      <td>1461.0</td>\n",
       "      <td>...</td>\n",
       "      <td>5829.0</td>\n",
       "      <td>1.0</td>\n",
       "      <td>5400.0</td>\n",
       "      <td>15144.0</td>\n",
       "      <td>43277.0</td>\n",
       "      <td>-0.707107</td>\n",
       "      <td>7.071068e-01</td>\n",
       "      <td>1.721336e-02</td>\n",
       "      <td>0.999852</td>\n",
       "      <td>3</td>\n",
       "    </tr>\n",
       "    <tr>\n",
       "      <th>2023-01-01 22:00:00</th>\n",
       "      <td>454.0</td>\n",
       "      <td>1.0</td>\n",
       "      <td>38.0</td>\n",
       "      <td>41.0</td>\n",
       "      <td>1.0</td>\n",
       "      <td>83.0</td>\n",
       "      <td>15274.0</td>\n",
       "      <td>683.0</td>\n",
       "      <td>623.0</td>\n",
       "      <td>1330.0</td>\n",
       "      <td>...</td>\n",
       "      <td>5404.0</td>\n",
       "      <td>1.0</td>\n",
       "      <td>5113.0</td>\n",
       "      <td>14698.0</td>\n",
       "      <td>41270.0</td>\n",
       "      <td>-0.500000</td>\n",
       "      <td>8.660254e-01</td>\n",
       "      <td>1.721336e-02</td>\n",
       "      <td>0.999852</td>\n",
       "      <td>3</td>\n",
       "    </tr>\n",
       "  </tbody>\n",
       "</table>\n",
       "<p>8781 rows × 52 columns</p>\n",
       "</div>"
      ],
      "text/plain": [
       "                     HU_B01  HU_B09  HU_B11  HU_B15  HU_B16  HU_B19  HU_Load  \\\n",
       "2021-12-31 23:00:00   133.0     1.0    12.0     8.0     1.0   127.0   4255.0   \n",
       "2022-01-01 00:00:00   524.0     1.0    45.0    31.0     1.0   744.0  16458.0   \n",
       "2022-01-01 01:00:00   517.0     1.0    45.0    29.0     1.0   903.0  15427.0   \n",
       "2022-01-01 02:00:00   508.0     1.0    45.0    29.0     1.0   946.0  14782.0   \n",
       "2022-01-01 03:00:00   507.0     1.0    45.0    29.0     1.0   674.0  14631.0   \n",
       "...                     ...     ...     ...     ...     ...     ...      ...   \n",
       "2023-01-01 18:00:00   452.0     1.0    37.0    48.0     1.0   118.0  18252.0   \n",
       "2023-01-01 19:00:00   451.0     1.0    37.0    43.0     1.0   132.0  17874.0   \n",
       "2023-01-01 20:00:00   453.0     1.0    37.0    42.0     1.0   110.0  17142.0   \n",
       "2023-01-01 21:00:00   451.0     1.0    37.0    43.0     1.0   123.0  16260.0   \n",
       "2023-01-01 22:00:00   454.0     1.0    38.0    41.0     1.0    83.0  15274.0   \n",
       "\n",
       "                     IT_B01  IT_B09  IT_B11  ...  SE_B12  SE_B16  SE_B19  \\\n",
       "2021-12-31 23:00:00   678.0   640.0  2116.0  ...  7016.0     1.0  4046.0   \n",
       "2022-01-01 00:00:00   684.0   641.0  1952.0  ...  7087.0     1.0  4022.0   \n",
       "2022-01-01 01:00:00   671.0   640.0  1832.0  ...  7089.0     1.0  3949.0   \n",
       "2022-01-01 02:00:00   657.0   649.0  1843.0  ...  6747.0     1.0  3764.0   \n",
       "2022-01-01 03:00:00   650.0   649.0  1819.0  ...  7174.0     1.0  3598.0   \n",
       "...                     ...     ...     ...  ...     ...     ...     ...   \n",
       "2023-01-01 18:00:00   682.0   621.0  2477.0  ...  6917.0     1.0  5800.0   \n",
       "2023-01-01 19:00:00   682.0   622.0  1768.0  ...  6585.0     1.0  5764.0   \n",
       "2023-01-01 20:00:00   685.0   622.0  1559.0  ...  6437.0     1.0  5551.0   \n",
       "2023-01-01 21:00:00   688.0   622.0  1461.0  ...  5829.0     1.0  5400.0   \n",
       "2023-01-01 22:00:00   683.0   623.0  1330.0  ...  5404.0     1.0  5113.0   \n",
       "\n",
       "                     SE_Load  NE_Load  Sin_Hour      Cos_Hour  Sin_DayOfYear  \\\n",
       "2021-12-31 23:00:00  15332.0  10327.0 -0.258819  9.659258e-01   6.432491e-16   \n",
       "2022-01-01 00:00:00  15332.0  40707.0  0.000000  1.000000e+00   1.721336e-02   \n",
       "2022-01-01 01:00:00  15271.0  39466.0  0.258819  9.659258e-01   1.721336e-02   \n",
       "2022-01-01 02:00:00  15151.0  38924.0  0.500000  8.660254e-01   1.721336e-02   \n",
       "2022-01-01 03:00:00  15388.0  38212.0  0.707107  7.071068e-01   1.721336e-02   \n",
       "...                      ...      ...       ...           ...            ...   \n",
       "2023-01-01 18:00:00  16588.0  49163.0 -1.000000 -1.836970e-16   1.721336e-02   \n",
       "2023-01-01 19:00:00  16146.0  47636.0 -0.965926  2.588190e-01   1.721336e-02   \n",
       "2023-01-01 20:00:00  15870.0  45690.0 -0.866025  5.000000e-01   1.721336e-02   \n",
       "2023-01-01 21:00:00  15144.0  43277.0 -0.707107  7.071068e-01   1.721336e-02   \n",
       "2023-01-01 22:00:00  14698.0  41270.0 -0.500000  8.660254e-01   1.721336e-02   \n",
       "\n",
       "                     Cos_DayOfYear  label  \n",
       "2021-12-31 23:00:00       1.000000      3  \n",
       "2022-01-01 00:00:00       0.999852      3  \n",
       "2022-01-01 01:00:00       0.999852      3  \n",
       "2022-01-01 02:00:00       0.999852      3  \n",
       "2022-01-01 03:00:00       0.999852      3  \n",
       "...                            ...    ...  \n",
       "2023-01-01 18:00:00       0.999852      3  \n",
       "2023-01-01 19:00:00       0.999852      3  \n",
       "2023-01-01 20:00:00       0.999852      3  \n",
       "2023-01-01 21:00:00       0.999852      3  \n",
       "2023-01-01 22:00:00       0.999852      3  \n",
       "\n",
       "[8781 rows x 52 columns]"
      ]
     },
     "execution_count": 3,
     "metadata": {},
     "output_type": "execute_result"
    }
   ],
   "source": [
    "#Leemos el archivo, indicando que la primera columna son datos de fecha y hora\n",
    "#le decimos que use esos timestamps como indice\n",
    "df = pd.read_csv(data_csv, parse_dates=[0], index_col=0)\n",
    "df"
   ]
  },
  {
   "cell_type": "code",
   "execution_count": 4,
   "id": "c9021796",
   "metadata": {},
   "outputs": [],
   "source": [
    "#We input the number of regions we are going to focus on\n",
    "num_regions=8\n",
    "#We choose the parameters for our model\n",
    "window_size=10\n",
    "num_train = 300\n",
    "num_train2 = num_train+300\n",
    "num_val = 150\n",
    "#num:test would be the last 20% of the year, to comply with the task\n",
    "num_test = 300"
   ]
  },
  {
   "cell_type": "code",
   "execution_count": 5,
   "id": "bfaa32f7",
   "metadata": {},
   "outputs": [],
   "source": [
    "def df_to_X_y(df, window_size=window_size):\n",
    "    df_as_np = df.to_numpy()\n",
    "    X = []\n",
    "    y = []\n",
    "    for i in range(len(df_as_np) - window_size):\n",
    "        #We take every column except the last one, because its values are the labels\n",
    "        row = [r[0:-1] for r in df_as_np[i:i+window_size]]\n",
    "        X.append(row)\n",
    "        label = df_as_np[i+window_size][-1]\n",
    "        y.append(label)\n",
    "    return np.array(X), np.array(y)"
   ]
  },
  {
   "cell_type": "code",
   "execution_count": 6,
   "metadata": {},
   "outputs": [
    {
     "data": {
      "text/plain": [
       "((8771, 10, 51), (8771,))"
      ]
     },
     "execution_count": 6,
     "metadata": {},
     "output_type": "execute_result"
    }
   ],
   "source": [
    "X, y = df_to_X_y(df)\n",
    "X.shape, y.shape"
   ]
  },
  {
   "cell_type": "code",
   "execution_count": 7,
   "metadata": {},
   "outputs": [
    {
     "data": {
      "text/plain": [
       "((300, 10, 51), (300,), (150, 10, 51), (150,), (300, 10, 51), (300,))"
      ]
     },
     "execution_count": 7,
     "metadata": {},
     "output_type": "execute_result"
    }
   ],
   "source": [
    "\n",
    "#X_train and y_train have a size of \"num_train\"\n",
    "X_train, y_train = X[:num_train], y[:num_train]\n",
    "#X_val and y_val have a size of \"num_val\"\n",
    "X_val, y_val = X[num_train:(num_train+num_val)], y[num_train:(num_train+num_val)]\n",
    "#X_test and y_test have a size of \"num_test\"\n",
    "X_test, y_test = X[(num_train+num_val):(num_train+num_val+num_test)], y[num_train:(num_train+num_test)]\n",
    "\n",
    "X_train.shape, y_train.shape, X_val.shape, y_val.shape, X_test.shape, y_test.shape"
   ]
  },
  {
   "cell_type": "code",
   "execution_count": 8,
   "metadata": {},
   "outputs": [],
   "source": [
    "#We are going to standardize our dataframes, so that the model can work with them better\n",
    "df_training_mean = np.mean(X_train[:, :, 0])\n",
    "df_training_std = np.std(X_train[:, :, 0])\n",
    "                           \n",
    "def preprocess(X):\n",
    "  X[:, :, 0] = (X[:, :, 0] - df_training_mean) / df_training_std\n",
    "  return X"
   ]
  },
  {
   "cell_type": "code",
   "execution_count": 9,
   "metadata": {},
   "outputs": [
    {
     "data": {
      "text/plain": [
       "array([[[ 2.27479176e+00,  5.00000000e+00,  5.30000000e+01, ...,\n",
       "         -2.58819045e-01,  3.21269662e-01,  9.46987753e-01],\n",
       "        [ 2.24849623e+00,  5.00000000e+00,  5.40000000e+01, ...,\n",
       "         -1.83697020e-16,  3.21269662e-01,  9.46987753e-01],\n",
       "        [ 2.40626944e+00,  5.00000000e+00,  5.70000000e+01, ...,\n",
       "          2.58819045e-01,  3.21269662e-01,  9.46987753e-01],\n",
       "        ...,\n",
       "        [ 2.66922481e+00,  5.00000000e+00,  5.30000000e+01, ...,\n",
       "          1.00000000e+00,  3.37522900e-01,  9.41317318e-01],\n",
       "        [ 2.69552034e+00,  5.00000000e+00,  5.30000000e+01, ...,\n",
       "          9.65925826e-01,  3.37522900e-01,  9.41317318e-01],\n",
       "        [ 2.82699802e+00,  5.00000000e+00,  5.30000000e+01, ...,\n",
       "          8.66025404e-01,  3.37522900e-01,  9.41317318e-01]],\n",
       "\n",
       "       [[ 2.24849623e+00,  5.00000000e+00,  5.40000000e+01, ...,\n",
       "         -1.83697020e-16,  3.21269662e-01,  9.46987753e-01],\n",
       "        [ 2.40626944e+00,  5.00000000e+00,  5.70000000e+01, ...,\n",
       "          2.58819045e-01,  3.21269662e-01,  9.46987753e-01],\n",
       "        [ 2.43256498e+00,  5.00000000e+00,  5.70000000e+01, ...,\n",
       "          5.00000000e-01,  3.21269662e-01,  9.46987753e-01],\n",
       "        ...,\n",
       "        [ 2.69552034e+00,  5.00000000e+00,  5.30000000e+01, ...,\n",
       "          9.65925826e-01,  3.37522900e-01,  9.41317318e-01],\n",
       "        [ 2.82699802e+00,  5.00000000e+00,  5.30000000e+01, ...,\n",
       "          8.66025404e-01,  3.37522900e-01,  9.41317318e-01],\n",
       "        [ 2.64292927e+00,  5.00000000e+00,  5.50000000e+01, ...,\n",
       "          7.07106781e-01,  3.37522900e-01,  9.41317318e-01]],\n",
       "\n",
       "       [[ 2.40626944e+00,  5.00000000e+00,  5.70000000e+01, ...,\n",
       "          2.58819045e-01,  3.21269662e-01,  9.46987753e-01],\n",
       "        [ 2.43256498e+00,  5.00000000e+00,  5.70000000e+01, ...,\n",
       "          5.00000000e-01,  3.21269662e-01,  9.46987753e-01],\n",
       "        [ 2.77440695e+00,  5.00000000e+00,  5.70000000e+01, ...,\n",
       "          7.07106781e-01,  3.21269662e-01,  9.46987753e-01],\n",
       "        ...,\n",
       "        [ 2.82699802e+00,  5.00000000e+00,  5.30000000e+01, ...,\n",
       "          8.66025404e-01,  3.37522900e-01,  9.41317318e-01],\n",
       "        [ 2.64292927e+00,  5.00000000e+00,  5.50000000e+01, ...,\n",
       "          7.07106781e-01,  3.37522900e-01,  9.41317318e-01],\n",
       "        [ 2.59033820e+00,  5.00000000e+00,  5.70000000e+01, ...,\n",
       "          5.00000000e-01,  3.37522900e-01,  9.41317318e-01]],\n",
       "\n",
       "       ...,\n",
       "\n",
       "       [[ 2.66922481e+00,  5.00000000e+00,  6.10000000e+01, ...,\n",
       "          8.66025404e-01,  5.23415607e-01,  8.52077521e-01],\n",
       "        [ 2.74811141e+00,  5.00000000e+00,  6.10000000e+01, ...,\n",
       "          7.07106781e-01,  5.23415607e-01,  8.52077521e-01],\n",
       "        [ 2.66922481e+00,  5.00000000e+00,  6.10000000e+01, ...,\n",
       "          5.00000000e-01,  5.23415607e-01,  8.52077521e-01],\n",
       "        ...,\n",
       "        [ 3.14254445e+00,  5.00000000e+00,  6.00000000e+01, ...,\n",
       "         -7.07106781e-01,  5.23415607e-01,  8.52077521e-01],\n",
       "        [ 3.08995338e+00,  4.00000000e+00,  6.10000000e+01, ...,\n",
       "         -8.66025404e-01,  5.23415607e-01,  8.52077521e-01],\n",
       "        [ 3.19513553e+00,  5.00000000e+00,  6.00000000e+01, ...,\n",
       "         -9.65925826e-01,  5.23415607e-01,  8.52077521e-01]],\n",
       "\n",
       "       [[ 2.74811141e+00,  5.00000000e+00,  6.10000000e+01, ...,\n",
       "          7.07106781e-01,  5.23415607e-01,  8.52077521e-01],\n",
       "        [ 2.66922481e+00,  5.00000000e+00,  6.10000000e+01, ...,\n",
       "          5.00000000e-01,  5.23415607e-01,  8.52077521e-01],\n",
       "        [ 2.85329356e+00,  5.00000000e+00,  6.10000000e+01, ...,\n",
       "          2.58819045e-01,  5.23415607e-01,  8.52077521e-01],\n",
       "        ...,\n",
       "        [ 3.08995338e+00,  4.00000000e+00,  6.10000000e+01, ...,\n",
       "         -8.66025404e-01,  5.23415607e-01,  8.52077521e-01],\n",
       "        [ 3.19513553e+00,  5.00000000e+00,  6.00000000e+01, ...,\n",
       "         -9.65925826e-01,  5.23415607e-01,  8.52077521e-01],\n",
       "        [ 2.85329356e+00,  5.00000000e+00,  5.90000000e+01, ...,\n",
       "         -1.00000000e+00,  5.23415607e-01,  8.52077521e-01]],\n",
       "\n",
       "       [[ 2.66922481e+00,  5.00000000e+00,  6.10000000e+01, ...,\n",
       "          5.00000000e-01,  5.23415607e-01,  8.52077521e-01],\n",
       "        [ 2.85329356e+00,  5.00000000e+00,  6.10000000e+01, ...,\n",
       "          2.58819045e-01,  5.23415607e-01,  8.52077521e-01],\n",
       "        [ 3.03736231e+00,  5.00000000e+00,  6.10000000e+01, ...,\n",
       "          6.12323400e-17,  5.23415607e-01,  8.52077521e-01],\n",
       "        ...,\n",
       "        [ 3.19513553e+00,  5.00000000e+00,  6.00000000e+01, ...,\n",
       "         -9.65925826e-01,  5.23415607e-01,  8.52077521e-01],\n",
       "        [ 2.85329356e+00,  5.00000000e+00,  5.90000000e+01, ...,\n",
       "         -1.00000000e+00,  5.23415607e-01,  8.52077521e-01],\n",
       "        [ 2.74811141e+00,  5.00000000e+00,  5.90000000e+01, ...,\n",
       "         -9.65925826e-01,  5.23415607e-01,  8.52077521e-01]]])"
      ]
     },
     "execution_count": 9,
     "metadata": {},
     "output_type": "execute_result"
    }
   ],
   "source": [
    "#We preprocess all the dataframes\n",
    "preprocess(X_train)\n",
    "preprocess(X_val)\n",
    "preprocess(X_test)"
   ]
  },
  {
   "cell_type": "code",
   "execution_count": 10,
   "metadata": {},
   "outputs": [
    {
     "name": "stdout",
     "output_type": "stream",
     "text": [
      "WARNING:tensorflow:From C:\\Users\\torti\\AppData\\Local\\Packages\\PythonSoftwareFoundation.Python.3.11_qbz5n2kfra8p0\\LocalCache\\local-packages\\Python311\\site-packages\\keras\\src\\backend.py:873: The name tf.get_default_graph is deprecated. Please use tf.compat.v1.get_default_graph instead.\n",
      "\n",
      "Model: \"sequential\"\n",
      "_________________________________________________________________\n",
      " Layer (type)                Output Shape              Param #   \n",
      "=================================================================\n",
      " lstm (LSTM)                 (None, 100)               60800     \n",
      "                                                                 \n",
      " dense (Dense)               (None, 8)                 808       \n",
      "                                                                 \n",
      " dense_1 (Dense)             (None, 1)                 9         \n",
      "                                                                 \n",
      "=================================================================\n",
      "Total params: 61617 (240.69 KB)\n",
      "Trainable params: 61617 (240.69 KB)\n",
      "Non-trainable params: 0 (0.00 Byte)\n",
      "_________________________________________________________________\n"
     ]
    }
   ],
   "source": [
    "#We create our model, adding the necessary layers\n",
    "\n",
    "model1 = Sequential()\n",
    "model1.add(InputLayer((window_size, X.shape[2])))\n",
    "model1.add(LSTM(100))\n",
    "model1.add(Dense(8, 'relu'))\n",
    "model1.add(Dense(1, 'linear'))\n",
    "\n",
    "model1.summary()"
   ]
  },
  {
   "cell_type": "code",
   "execution_count": 11,
   "metadata": {},
   "outputs": [],
   "source": [
    "cp4 = ModelCheckpoint('model/', save_best_only=True)\n",
    "model1.compile(loss=MeanSquaredError(), optimizer=Adam(learning_rate=0.0001), metrics=[RootMeanSquaredError()])"
   ]
  },
  {
   "cell_type": "code",
   "execution_count": 12,
   "metadata": {},
   "outputs": [
    {
     "name": "stdout",
     "output_type": "stream",
     "text": [
      "Epoch 1/12\n",
      "WARNING:tensorflow:From C:\\Users\\torti\\AppData\\Local\\Packages\\PythonSoftwareFoundation.Python.3.11_qbz5n2kfra8p0\\LocalCache\\local-packages\\Python311\\site-packages\\keras\\src\\utils\\tf_utils.py:492: The name tf.ragged.RaggedTensorValue is deprecated. Please use tf.compat.v1.ragged.RaggedTensorValue instead.\n",
      "\n",
      " 7/10 [====================>.........] - ETA: 0s - loss: 6.8911 - root_mean_squared_error: 2.6251 INFO:tensorflow:Assets written to: model\\assets\n"
     ]
    },
    {
     "name": "stderr",
     "output_type": "stream",
     "text": [
      "INFO:tensorflow:Assets written to: model\\assets\n"
     ]
    },
    {
     "name": "stdout",
     "output_type": "stream",
     "text": [
      "10/10 [==============================] - 25s 2s/step - loss: 6.8724 - root_mean_squared_error: 2.6215 - val_loss: 6.9425 - val_root_mean_squared_error: 2.6349\n",
      "Epoch 2/12\n",
      " 8/10 [=======================>......] - ETA: 0s - loss: 6.7242 - root_mean_squared_error: 2.5931INFO:tensorflow:Assets written to: model\\assets\n"
     ]
    },
    {
     "name": "stderr",
     "output_type": "stream",
     "text": [
      "INFO:tensorflow:Assets written to: model\\assets\n"
     ]
    },
    {
     "name": "stdout",
     "output_type": "stream",
     "text": [
      "10/10 [==============================] - 15s 2s/step - loss: 6.7084 - root_mean_squared_error: 2.5900 - val_loss: 6.7894 - val_root_mean_squared_error: 2.6056\n",
      "Epoch 3/12\n",
      " 8/10 [=======================>......] - ETA: 0s - loss: 6.5997 - root_mean_squared_error: 2.5690INFO:tensorflow:Assets written to: model\\assets\n"
     ]
    },
    {
     "name": "stderr",
     "output_type": "stream",
     "text": [
      "INFO:tensorflow:Assets written to: model\\assets\n"
     ]
    },
    {
     "name": "stdout",
     "output_type": "stream",
     "text": [
      "10/10 [==============================] - 17s 2s/step - loss: 6.5847 - root_mean_squared_error: 2.5661 - val_loss: 6.6708 - val_root_mean_squared_error: 2.5828\n",
      "Epoch 4/12\n",
      "10/10 [==============================] - ETA: 0s - loss: 6.4796 - root_mean_squared_error: 2.5455INFO:tensorflow:Assets written to: model\\assets\n"
     ]
    },
    {
     "name": "stderr",
     "output_type": "stream",
     "text": [
      "INFO:tensorflow:Assets written to: model\\assets\n"
     ]
    },
    {
     "name": "stdout",
     "output_type": "stream",
     "text": [
      "10/10 [==============================] - 15s 2s/step - loss: 6.4796 - root_mean_squared_error: 2.5455 - val_loss: 6.5677 - val_root_mean_squared_error: 2.5628\n",
      "Epoch 5/12\n",
      "10/10 [==============================] - ETA: 0s - loss: 6.3796 - root_mean_squared_error: 2.5258INFO:tensorflow:Assets written to: model\\assets\n"
     ]
    },
    {
     "name": "stderr",
     "output_type": "stream",
     "text": [
      "INFO:tensorflow:Assets written to: model\\assets\n"
     ]
    },
    {
     "name": "stdout",
     "output_type": "stream",
     "text": [
      "10/10 [==============================] - 14s 2s/step - loss: 6.3796 - root_mean_squared_error: 2.5258 - val_loss: 6.4663 - val_root_mean_squared_error: 2.5429\n",
      "Epoch 6/12\n",
      " 8/10 [=======================>......] - ETA: 0s - loss: 6.2826 - root_mean_squared_error: 2.5065INFO:tensorflow:Assets written to: model\\assets\n"
     ]
    },
    {
     "name": "stderr",
     "output_type": "stream",
     "text": [
      "INFO:tensorflow:Assets written to: model\\assets\n"
     ]
    },
    {
     "name": "stdout",
     "output_type": "stream",
     "text": [
      "10/10 [==============================] - 15s 2s/step - loss: 6.2759 - root_mean_squared_error: 2.5052 - val_loss: 6.3617 - val_root_mean_squared_error: 2.5222\n",
      "Epoch 7/12\n",
      " 7/10 [====================>.........] - ETA: 0s - loss: 6.1827 - root_mean_squared_error: 2.4865INFO:tensorflow:Assets written to: model\\assets\n"
     ]
    },
    {
     "name": "stderr",
     "output_type": "stream",
     "text": [
      "INFO:tensorflow:Assets written to: model\\assets\n"
     ]
    },
    {
     "name": "stdout",
     "output_type": "stream",
     "text": [
      "10/10 [==============================] - 18s 2s/step - loss: 6.1736 - root_mean_squared_error: 2.4847 - val_loss: 6.2559 - val_root_mean_squared_error: 2.5012\n",
      "Epoch 8/12\n",
      "10/10 [==============================] - ETA: 0s - loss: 6.0752 - root_mean_squared_error: 2.4648INFO:tensorflow:Assets written to: model\\assets\n"
     ]
    },
    {
     "name": "stderr",
     "output_type": "stream",
     "text": [
      "INFO:tensorflow:Assets written to: model\\assets\n"
     ]
    },
    {
     "name": "stdout",
     "output_type": "stream",
     "text": [
      "10/10 [==============================] - 10s 1s/step - loss: 6.0752 - root_mean_squared_error: 2.4648 - val_loss: 6.1482 - val_root_mean_squared_error: 2.4796\n",
      "Epoch 9/12\n",
      " 9/10 [==========================>...] - ETA: 0s - loss: 5.9751 - root_mean_squared_error: 2.4444INFO:tensorflow:Assets written to: model\\assets\n"
     ]
    },
    {
     "name": "stderr",
     "output_type": "stream",
     "text": [
      "INFO:tensorflow:Assets written to: model\\assets\n"
     ]
    },
    {
     "name": "stdout",
     "output_type": "stream",
     "text": [
      "10/10 [==============================] - 9s 998ms/step - loss: 5.9763 - root_mean_squared_error: 2.4446 - val_loss: 6.0339 - val_root_mean_squared_error: 2.4564\n",
      "Epoch 10/12\n",
      " 7/10 [====================>.........] - ETA: 0s - loss: 5.8630 - root_mean_squared_error: 2.4214INFO:tensorflow:Assets written to: model\\assets\n"
     ]
    },
    {
     "name": "stderr",
     "output_type": "stream",
     "text": [
      "INFO:tensorflow:Assets written to: model\\assets\n"
     ]
    },
    {
     "name": "stdout",
     "output_type": "stream",
     "text": [
      "10/10 [==============================] - 17s 2s/step - loss: 5.8442 - root_mean_squared_error: 2.4175 - val_loss: 5.8591 - val_root_mean_squared_error: 2.4206\n",
      "Epoch 11/12\n",
      " 7/10 [====================>.........] - ETA: 0s - loss: 5.6818 - root_mean_squared_error: 2.3836INFO:tensorflow:Assets written to: model\\assets\n"
     ]
    },
    {
     "name": "stderr",
     "output_type": "stream",
     "text": [
      "INFO:tensorflow:Assets written to: model\\assets\n"
     ]
    },
    {
     "name": "stdout",
     "output_type": "stream",
     "text": [
      "10/10 [==============================] - 15s 2s/step - loss: 5.6582 - root_mean_squared_error: 2.3787 - val_loss: 5.6827 - val_root_mean_squared_error: 2.3838\n",
      "Epoch 12/12\n",
      " 9/10 [==========================>...] - ETA: 0s - loss: 5.4972 - root_mean_squared_error: 2.3446INFO:tensorflow:Assets written to: model\\assets\n"
     ]
    },
    {
     "name": "stderr",
     "output_type": "stream",
     "text": [
      "INFO:tensorflow:Assets written to: model\\assets\n"
     ]
    },
    {
     "name": "stdout",
     "output_type": "stream",
     "text": [
      "10/10 [==============================] - 12s 1s/step - loss: 5.4889 - root_mean_squared_error: 2.3428 - val_loss: 5.4437 - val_root_mean_squared_error: 2.3332\n"
     ]
    },
    {
     "data": {
      "text/plain": [
       "<keras.src.callbacks.History at 0x1bfab117b10>"
      ]
     },
     "execution_count": 12,
     "metadata": {},
     "output_type": "execute_result"
    }
   ],
   "source": [
    "model1.fit(X_train, y_train, validation_data=(X_val, y_val), epochs=12, callbacks=[cp4])"
   ]
  },
  {
   "cell_type": "code",
   "execution_count": 15,
   "metadata": {},
   "outputs": [
    {
     "name": "stdout",
     "output_type": "stream",
     "text": [
      "10/10 [==============================] - 0s 13ms/step\n"
     ]
    },
    {
     "ename": "AttributeError",
     "evalue": "module 'matplotlib' has no attribute 'plot'",
     "output_type": "error",
     "traceback": [
      "\u001b[1;31m---------------------------------------------------------------------------\u001b[0m",
      "\u001b[1;31mAttributeError\u001b[0m                            Traceback (most recent call last)",
      "\u001b[1;32mc:\\Users\\torti\\Documents\\Github\\Hackathon_Betelgeuse_Gazers\\Betelgeuse_Gazers-EcoForecast_Revolutionizing_Green_Energy_Surplus_Prediction_in_Europe\\src\\model_training.ipynb Cell 13\u001b[0m line \u001b[0;36m1\n\u001b[1;32m----> <a href='vscode-notebook-cell:/c%3A/Users/torti/Documents/Github/Hackathon_Betelgeuse_Gazers/Betelgeuse_Gazers-EcoForecast_Revolutionizing_Green_Energy_Surplus_Prediction_in_Europe/src/model_training.ipynb#X15sZmlsZQ%3D%3D?line=0'>1</a>\u001b[0m plot_predictions1(model1, X_test, y_test)\n",
      "\u001b[1;32mc:\\Users\\torti\\Documents\\Github\\Hackathon_Betelgeuse_Gazers\\Betelgeuse_Gazers-EcoForecast_Revolutionizing_Green_Energy_Surplus_Prediction_in_Europe\\src\\model_training.ipynb Cell 13\u001b[0m line \u001b[0;36m1\n\u001b[0;32m     <a href='vscode-notebook-cell:/c%3A/Users/torti/Documents/Github/Hackathon_Betelgeuse_Gazers/Betelgeuse_Gazers-EcoForecast_Revolutionizing_Green_Energy_Surplus_Prediction_in_Europe/src/model_training.ipynb#X15sZmlsZQ%3D%3D?line=16'>17</a>\u001b[0m predictions \u001b[39m=\u001b[39m model\u001b[39m.\u001b[39mpredict(X)\u001b[39m.\u001b[39mflatten()\n\u001b[0;32m     <a href='vscode-notebook-cell:/c%3A/Users/torti/Documents/Github/Hackathon_Betelgeuse_Gazers/Betelgeuse_Gazers-EcoForecast_Revolutionizing_Green_Energy_Surplus_Prediction_in_Europe/src/model_training.ipynb#X15sZmlsZQ%3D%3D?line=17'>18</a>\u001b[0m df \u001b[39m=\u001b[39m pd\u001b[39m.\u001b[39mDataFrame(data\u001b[39m=\u001b[39m{\u001b[39m'\u001b[39m\u001b[39mPredictions\u001b[39m\u001b[39m'\u001b[39m:predictions, \u001b[39m'\u001b[39m\u001b[39mActuals\u001b[39m\u001b[39m'\u001b[39m:y})\n\u001b[1;32m---> <a href='vscode-notebook-cell:/c%3A/Users/torti/Documents/Github/Hackathon_Betelgeuse_Gazers/Betelgeuse_Gazers-EcoForecast_Revolutionizing_Green_Energy_Surplus_Prediction_in_Europe/src/model_training.ipynb#X15sZmlsZQ%3D%3D?line=18'>19</a>\u001b[0m plt\u001b[39m.\u001b[39;49mplot(df[\u001b[39m'\u001b[39m\u001b[39mPredictions\u001b[39m\u001b[39m'\u001b[39m][start:end])\n\u001b[0;32m     <a href='vscode-notebook-cell:/c%3A/Users/torti/Documents/Github/Hackathon_Betelgeuse_Gazers/Betelgeuse_Gazers-EcoForecast_Revolutionizing_Green_Energy_Surplus_Prediction_in_Europe/src/model_training.ipynb#X15sZmlsZQ%3D%3D?line=19'>20</a>\u001b[0m plt\u001b[39m.\u001b[39mplot(df[\u001b[39m'\u001b[39m\u001b[39mActuals\u001b[39m\u001b[39m'\u001b[39m][start:end])\n\u001b[0;32m     <a href='vscode-notebook-cell:/c%3A/Users/torti/Documents/Github/Hackathon_Betelgeuse_Gazers/Betelgeuse_Gazers-EcoForecast_Revolutionizing_Green_Energy_Surplus_Prediction_in_Europe/src/model_training.ipynb#X15sZmlsZQ%3D%3D?line=20'>21</a>\u001b[0m \u001b[39mreturn\u001b[39;00m df, mse(y, predictions)\n",
      "File \u001b[1;32m~\\AppData\\Local\\Packages\\PythonSoftwareFoundation.Python.3.11_qbz5n2kfra8p0\\LocalCache\\local-packages\\Python311\\site-packages\\matplotlib\\_api\\__init__.py:217\u001b[0m, in \u001b[0;36mcaching_module_getattr.<locals>.__getattr__\u001b[1;34m(name)\u001b[0m\n\u001b[0;32m    215\u001b[0m \u001b[39mif\u001b[39;00m name \u001b[39min\u001b[39;00m props:\n\u001b[0;32m    216\u001b[0m     \u001b[39mreturn\u001b[39;00m props[name]\u001b[39m.\u001b[39m\u001b[39m__get__\u001b[39m(instance)\n\u001b[1;32m--> 217\u001b[0m \u001b[39mraise\u001b[39;00m \u001b[39mAttributeError\u001b[39;00m(\n\u001b[0;32m    218\u001b[0m     \u001b[39mf\u001b[39m\u001b[39m\"\u001b[39m\u001b[39mmodule \u001b[39m\u001b[39m{\u001b[39;00m\u001b[39mcls\u001b[39m\u001b[39m.\u001b[39m\u001b[39m__module__\u001b[39m\u001b[39m!r}\u001b[39;00m\u001b[39m has no attribute \u001b[39m\u001b[39m{\u001b[39;00mname\u001b[39m!r}\u001b[39;00m\u001b[39m\"\u001b[39m)\n",
      "\u001b[1;31mAttributeError\u001b[0m: module 'matplotlib' has no attribute 'plot'"
     ]
    }
   ],
   "source": [
    "plot_predictions1(model1, X_test, y_test)"
   ]
  },
  {
   "cell_type": "code",
   "execution_count": null,
   "metadata": {},
   "outputs": [],
   "source": []
  }
 ],
 "metadata": {
  "kernelspec": {
   "display_name": "Python 3 (ipykernel)",
   "language": "python",
   "name": "python3"
  },
  "language_info": {
   "codemirror_mode": {
    "name": "ipython",
    "version": 3
   },
   "file_extension": ".py",
   "mimetype": "text/x-python",
   "name": "python",
   "nbconvert_exporter": "python",
   "pygments_lexer": "ipython3",
   "version": "3.11.6"
  }
 },
 "nbformat": 4,
 "nbformat_minor": 5
}
